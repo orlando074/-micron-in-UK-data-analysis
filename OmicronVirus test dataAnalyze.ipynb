{
 "cells": [
  {
   "cell_type": "code",
   "execution_count": 88,
   "id": "d76f6ba4",
   "metadata": {},
   "outputs": [],
   "source": [
    "import pandas as pd\n",
    "import numpy as np\n",
    "import seaborn as sns\n",
    "import matplotlib.pyplot as plt\n",
    "plt.style.use(\"ggplot\")\n"
   ]
  },
  {
   "cell_type": "code",
   "execution_count": 2,
   "id": "7ca8c836",
   "metadata": {},
   "outputs": [],
   "source": [
    "data = pd.read_csv('/home/orlando131/Documentos/DataScience/OmicronEurope/sgtf_regionepicurve_2021-12-26.csv')"
   ]
  },
  {
   "cell_type": "code",
   "execution_count": 3,
   "id": "c2e831a9",
   "metadata": {},
   "outputs": [
    {
     "data": {
      "text/html": [
       "<div>\n",
       "<style scoped>\n",
       "    .dataframe tbody tr th:only-of-type {\n",
       "        vertical-align: middle;\n",
       "    }\n",
       "\n",
       "    .dataframe tbody tr th {\n",
       "        vertical-align: top;\n",
       "    }\n",
       "\n",
       "    .dataframe thead th {\n",
       "        text-align: right;\n",
       "    }\n",
       "</style>\n",
       "<table border=\"1\" class=\"dataframe\">\n",
       "  <thead>\n",
       "    <tr style=\"text-align: right;\">\n",
       "      <th></th>\n",
       "      <th>UKHSA_region</th>\n",
       "      <th>specimen_date</th>\n",
       "      <th>n</th>\n",
       "      <th>percent</th>\n",
       "      <th>sgtf</th>\n",
       "      <th>total</th>\n",
       "      <th>conf_low</th>\n",
       "      <th>conf_high</th>\n",
       "    </tr>\n",
       "  </thead>\n",
       "  <tbody>\n",
       "    <tr>\n",
       "      <th>0</th>\n",
       "      <td>East Midlands</td>\n",
       "      <td>01/11/2021</td>\n",
       "      <td>874</td>\n",
       "      <td>100.00</td>\n",
       "      <td>Cases with confirmed S-gene</td>\n",
       "      <td>874</td>\n",
       "      <td>99.454454</td>\n",
       "      <td>100.000000</td>\n",
       "    </tr>\n",
       "    <tr>\n",
       "      <th>1</th>\n",
       "      <td>East Midlands</td>\n",
       "      <td>02/11/2021</td>\n",
       "      <td>724</td>\n",
       "      <td>99.86</td>\n",
       "      <td>Cases with confirmed S-gene</td>\n",
       "      <td>725</td>\n",
       "      <td>99.109120</td>\n",
       "      <td>99.992800</td>\n",
       "    </tr>\n",
       "    <tr>\n",
       "      <th>2</th>\n",
       "      <td>East Midlands</td>\n",
       "      <td>02/11/2021</td>\n",
       "      <td>1</td>\n",
       "      <td>0.14</td>\n",
       "      <td>Cases with confirmed SGTF</td>\n",
       "      <td>725</td>\n",
       "      <td>0.007200</td>\n",
       "      <td>0.890880</td>\n",
       "    </tr>\n",
       "    <tr>\n",
       "      <th>3</th>\n",
       "      <td>East Midlands</td>\n",
       "      <td>03/11/2021</td>\n",
       "      <td>757</td>\n",
       "      <td>100.00</td>\n",
       "      <td>Cases with confirmed S-gene</td>\n",
       "      <td>757</td>\n",
       "      <td>99.370567</td>\n",
       "      <td>100.000000</td>\n",
       "    </tr>\n",
       "    <tr>\n",
       "      <th>4</th>\n",
       "      <td>East Midlands</td>\n",
       "      <td>04/11/2021</td>\n",
       "      <td>598</td>\n",
       "      <td>100.00</td>\n",
       "      <td>Cases with confirmed S-gene</td>\n",
       "      <td>598</td>\n",
       "      <td>99.204289</td>\n",
       "      <td>100.000000</td>\n",
       "    </tr>\n",
       "    <tr>\n",
       "      <th>...</th>\n",
       "      <td>...</td>\n",
       "      <td>...</td>\n",
       "      <td>...</td>\n",
       "      <td>...</td>\n",
       "      <td>...</td>\n",
       "      <td>...</td>\n",
       "      <td>...</td>\n",
       "      <td>...</td>\n",
       "    </tr>\n",
       "    <tr>\n",
       "      <th>865</th>\n",
       "      <td>Yorkshire and Humber</td>\n",
       "      <td>22/12/2021</td>\n",
       "      <td>6256</td>\n",
       "      <td>85.56</td>\n",
       "      <td>Cases with confirmed SGTF</td>\n",
       "      <td>7312</td>\n",
       "      <td>84.726617</td>\n",
       "      <td>86.351698</td>\n",
       "    </tr>\n",
       "    <tr>\n",
       "      <th>866</th>\n",
       "      <td>Yorkshire and Humber</td>\n",
       "      <td>23/12/2021</td>\n",
       "      <td>659</td>\n",
       "      <td>11.79</td>\n",
       "      <td>Cases with confirmed S-gene</td>\n",
       "      <td>5591</td>\n",
       "      <td>10.959045</td>\n",
       "      <td>12.667586</td>\n",
       "    </tr>\n",
       "    <tr>\n",
       "      <th>867</th>\n",
       "      <td>Yorkshire and Humber</td>\n",
       "      <td>23/12/2021</td>\n",
       "      <td>4932</td>\n",
       "      <td>88.21</td>\n",
       "      <td>Cases with confirmed SGTF</td>\n",
       "      <td>5591</td>\n",
       "      <td>87.332414</td>\n",
       "      <td>89.040955</td>\n",
       "    </tr>\n",
       "    <tr>\n",
       "      <th>868</th>\n",
       "      <td>Yorkshire and Humber</td>\n",
       "      <td>24/12/2021</td>\n",
       "      <td>199</td>\n",
       "      <td>8.46</td>\n",
       "      <td>Cases with confirmed S-gene</td>\n",
       "      <td>2352</td>\n",
       "      <td>7.382840</td>\n",
       "      <td>9.676950</td>\n",
       "    </tr>\n",
       "    <tr>\n",
       "      <th>869</th>\n",
       "      <td>Yorkshire and Humber</td>\n",
       "      <td>24/12/2021</td>\n",
       "      <td>2153</td>\n",
       "      <td>91.54</td>\n",
       "      <td>Cases with confirmed SGTF</td>\n",
       "      <td>2352</td>\n",
       "      <td>90.323050</td>\n",
       "      <td>92.617160</td>\n",
       "    </tr>\n",
       "  </tbody>\n",
       "</table>\n",
       "<p>870 rows × 8 columns</p>\n",
       "</div>"
      ],
      "text/plain": [
       "             UKHSA_region specimen_date     n  percent  \\\n",
       "0           East Midlands    01/11/2021   874   100.00   \n",
       "1           East Midlands    02/11/2021   724    99.86   \n",
       "2           East Midlands    02/11/2021     1     0.14   \n",
       "3           East Midlands    03/11/2021   757   100.00   \n",
       "4           East Midlands    04/11/2021   598   100.00   \n",
       "..                    ...           ...   ...      ...   \n",
       "865  Yorkshire and Humber    22/12/2021  6256    85.56   \n",
       "866  Yorkshire and Humber    23/12/2021   659    11.79   \n",
       "867  Yorkshire and Humber    23/12/2021  4932    88.21   \n",
       "868  Yorkshire and Humber    24/12/2021   199     8.46   \n",
       "869  Yorkshire and Humber    24/12/2021  2153    91.54   \n",
       "\n",
       "                            sgtf  total   conf_low   conf_high  \n",
       "0    Cases with confirmed S-gene    874  99.454454  100.000000  \n",
       "1    Cases with confirmed S-gene    725  99.109120   99.992800  \n",
       "2      Cases with confirmed SGTF    725   0.007200    0.890880  \n",
       "3    Cases with confirmed S-gene    757  99.370567  100.000000  \n",
       "4    Cases with confirmed S-gene    598  99.204289  100.000000  \n",
       "..                           ...    ...        ...         ...  \n",
       "865    Cases with confirmed SGTF   7312  84.726617   86.351698  \n",
       "866  Cases with confirmed S-gene   5591  10.959045   12.667586  \n",
       "867    Cases with confirmed SGTF   5591  87.332414   89.040955  \n",
       "868  Cases with confirmed S-gene   2352   7.382840    9.676950  \n",
       "869    Cases with confirmed SGTF   2352  90.323050   92.617160  \n",
       "\n",
       "[870 rows x 8 columns]"
      ]
     },
     "execution_count": 3,
     "metadata": {},
     "output_type": "execute_result"
    }
   ],
   "source": [
    "# Showing the datas with regions, date register, number of contagies, percent contagies, confirmed cases with \n",
    "# S-gene and SGTF, total at date register, minim confirmed and maxim confirmed\n",
    "data"
   ]
  },
  {
   "cell_type": "code",
   "execution_count": 4,
   "id": "3b91aa22",
   "metadata": {},
   "outputs": [
    {
     "data": {
      "text/plain": [
       "Index(['UKHSA_region', 'specimen_date', 'n', 'percent', 'sgtf', 'total',\n",
       "       'conf_low', 'conf_high'],\n",
       "      dtype='object')"
      ]
     },
     "execution_count": 4,
     "metadata": {},
     "output_type": "execute_result"
    }
   ],
   "source": [
    "#Listing columns presents in the datas\n",
    "data.columns"
   ]
  },
  {
   "cell_type": "code",
   "execution_count": 5,
   "id": "06d06ba8",
   "metadata": {},
   "outputs": [
    {
     "data": {
      "text/html": [
       "<div>\n",
       "<style scoped>\n",
       "    .dataframe tbody tr th:only-of-type {\n",
       "        vertical-align: middle;\n",
       "    }\n",
       "\n",
       "    .dataframe tbody tr th {\n",
       "        vertical-align: top;\n",
       "    }\n",
       "\n",
       "    .dataframe thead th {\n",
       "        text-align: right;\n",
       "    }\n",
       "</style>\n",
       "<table border=\"1\" class=\"dataframe\">\n",
       "  <thead>\n",
       "    <tr style=\"text-align: right;\">\n",
       "      <th></th>\n",
       "      <th>UKHSA_region</th>\n",
       "      <th>specimen_date</th>\n",
       "      <th>n</th>\n",
       "      <th>percent</th>\n",
       "      <th>sgtf</th>\n",
       "      <th>total</th>\n",
       "      <th>conf_low</th>\n",
       "      <th>conf_high</th>\n",
       "    </tr>\n",
       "  </thead>\n",
       "  <tbody>\n",
       "    <tr>\n",
       "      <th>0</th>\n",
       "      <td>East Midlands</td>\n",
       "      <td>01/11/2021</td>\n",
       "      <td>874</td>\n",
       "      <td>100.00</td>\n",
       "      <td>Cases with confirmed S-gene</td>\n",
       "      <td>874</td>\n",
       "      <td>99.454454</td>\n",
       "      <td>100.000000</td>\n",
       "    </tr>\n",
       "    <tr>\n",
       "      <th>1</th>\n",
       "      <td>East Midlands</td>\n",
       "      <td>02/11/2021</td>\n",
       "      <td>724</td>\n",
       "      <td>99.86</td>\n",
       "      <td>Cases with confirmed S-gene</td>\n",
       "      <td>725</td>\n",
       "      <td>99.109120</td>\n",
       "      <td>99.992800</td>\n",
       "    </tr>\n",
       "    <tr>\n",
       "      <th>2</th>\n",
       "      <td>East Midlands</td>\n",
       "      <td>02/11/2021</td>\n",
       "      <td>1</td>\n",
       "      <td>0.14</td>\n",
       "      <td>Cases with confirmed SGTF</td>\n",
       "      <td>725</td>\n",
       "      <td>0.007200</td>\n",
       "      <td>0.890880</td>\n",
       "    </tr>\n",
       "    <tr>\n",
       "      <th>3</th>\n",
       "      <td>East Midlands</td>\n",
       "      <td>03/11/2021</td>\n",
       "      <td>757</td>\n",
       "      <td>100.00</td>\n",
       "      <td>Cases with confirmed S-gene</td>\n",
       "      <td>757</td>\n",
       "      <td>99.370567</td>\n",
       "      <td>100.000000</td>\n",
       "    </tr>\n",
       "    <tr>\n",
       "      <th>4</th>\n",
       "      <td>East Midlands</td>\n",
       "      <td>04/11/2021</td>\n",
       "      <td>598</td>\n",
       "      <td>100.00</td>\n",
       "      <td>Cases with confirmed S-gene</td>\n",
       "      <td>598</td>\n",
       "      <td>99.204289</td>\n",
       "      <td>100.000000</td>\n",
       "    </tr>\n",
       "    <tr>\n",
       "      <th>...</th>\n",
       "      <td>...</td>\n",
       "      <td>...</td>\n",
       "      <td>...</td>\n",
       "      <td>...</td>\n",
       "      <td>...</td>\n",
       "      <td>...</td>\n",
       "      <td>...</td>\n",
       "      <td>...</td>\n",
       "    </tr>\n",
       "    <tr>\n",
       "      <th>94</th>\n",
       "      <td>East Midlands</td>\n",
       "      <td>22/12/2021</td>\n",
       "      <td>5443</td>\n",
       "      <td>87.19</td>\n",
       "      <td>Cases with confirmed SGTF</td>\n",
       "      <td>6243</td>\n",
       "      <td>86.325366</td>\n",
       "      <td>87.999754</td>\n",
       "    </tr>\n",
       "    <tr>\n",
       "      <th>95</th>\n",
       "      <td>East Midlands</td>\n",
       "      <td>23/12/2021</td>\n",
       "      <td>731</td>\n",
       "      <td>11.84</td>\n",
       "      <td>Cases with confirmed S-gene</td>\n",
       "      <td>6172</td>\n",
       "      <td>11.053454</td>\n",
       "      <td>12.682111</td>\n",
       "    </tr>\n",
       "    <tr>\n",
       "      <th>96</th>\n",
       "      <td>East Midlands</td>\n",
       "      <td>23/12/2021</td>\n",
       "      <td>5441</td>\n",
       "      <td>88.16</td>\n",
       "      <td>Cases with confirmed SGTF</td>\n",
       "      <td>6172</td>\n",
       "      <td>87.317889</td>\n",
       "      <td>88.946546</td>\n",
       "    </tr>\n",
       "    <tr>\n",
       "      <th>97</th>\n",
       "      <td>East Midlands</td>\n",
       "      <td>24/12/2021</td>\n",
       "      <td>418</td>\n",
       "      <td>9.55</td>\n",
       "      <td>Cases with confirmed S-gene</td>\n",
       "      <td>4375</td>\n",
       "      <td>8.707406</td>\n",
       "      <td>10.473060</td>\n",
       "    </tr>\n",
       "    <tr>\n",
       "      <th>98</th>\n",
       "      <td>East Midlands</td>\n",
       "      <td>24/12/2021</td>\n",
       "      <td>3957</td>\n",
       "      <td>90.45</td>\n",
       "      <td>Cases with confirmed SGTF</td>\n",
       "      <td>4375</td>\n",
       "      <td>89.526940</td>\n",
       "      <td>91.292594</td>\n",
       "    </tr>\n",
       "  </tbody>\n",
       "</table>\n",
       "<p>99 rows × 8 columns</p>\n",
       "</div>"
      ],
      "text/plain": [
       "     UKHSA_region specimen_date     n  percent                         sgtf  \\\n",
       "0   East Midlands    01/11/2021   874   100.00  Cases with confirmed S-gene   \n",
       "1   East Midlands    02/11/2021   724    99.86  Cases with confirmed S-gene   \n",
       "2   East Midlands    02/11/2021     1     0.14    Cases with confirmed SGTF   \n",
       "3   East Midlands    03/11/2021   757   100.00  Cases with confirmed S-gene   \n",
       "4   East Midlands    04/11/2021   598   100.00  Cases with confirmed S-gene   \n",
       "..            ...           ...   ...      ...                          ...   \n",
       "94  East Midlands    22/12/2021  5443    87.19    Cases with confirmed SGTF   \n",
       "95  East Midlands    23/12/2021   731    11.84  Cases with confirmed S-gene   \n",
       "96  East Midlands    23/12/2021  5441    88.16    Cases with confirmed SGTF   \n",
       "97  East Midlands    24/12/2021   418     9.55  Cases with confirmed S-gene   \n",
       "98  East Midlands    24/12/2021  3957    90.45    Cases with confirmed SGTF   \n",
       "\n",
       "    total   conf_low   conf_high  \n",
       "0     874  99.454454  100.000000  \n",
       "1     725  99.109120   99.992800  \n",
       "2     725   0.007200    0.890880  \n",
       "3     757  99.370567  100.000000  \n",
       "4     598  99.204289  100.000000  \n",
       "..    ...        ...         ...  \n",
       "94   6243  86.325366   87.999754  \n",
       "95   6172  11.053454   12.682111  \n",
       "96   6172  87.317889   88.946546  \n",
       "97   4375   8.707406   10.473060  \n",
       "98   4375  89.526940   91.292594  \n",
       "\n",
       "[99 rows x 8 columns]"
      ]
     },
     "execution_count": 5,
     "metadata": {},
     "output_type": "execute_result"
    }
   ],
   "source": [
    "#Locating the East Midlands region in DataFrame. Was selected a region example for tests:East Midlands.\n",
    "data.loc[data['UKHSA_region'] == 'East Midlands']"
   ]
  },
  {
   "cell_type": "code",
   "execution_count": 6,
   "id": "b0679157",
   "metadata": {
    "scrolled": false
   },
   "outputs": [
    {
     "data": {
      "text/html": [
       "<div>\n",
       "<style scoped>\n",
       "    .dataframe tbody tr th:only-of-type {\n",
       "        vertical-align: middle;\n",
       "    }\n",
       "\n",
       "    .dataframe tbody tr th {\n",
       "        vertical-align: top;\n",
       "    }\n",
       "\n",
       "    .dataframe thead th {\n",
       "        text-align: right;\n",
       "    }\n",
       "</style>\n",
       "<table border=\"1\" class=\"dataframe\">\n",
       "  <thead>\n",
       "    <tr style=\"text-align: right;\">\n",
       "      <th></th>\n",
       "      <th>UKHSA_region</th>\n",
       "      <th>specimen_date</th>\n",
       "      <th>n</th>\n",
       "      <th>percent</th>\n",
       "      <th>sgtf</th>\n",
       "      <th>total</th>\n",
       "      <th>conf_low</th>\n",
       "      <th>conf_high</th>\n",
       "    </tr>\n",
       "  </thead>\n",
       "  <tbody>\n",
       "    <tr>\n",
       "      <th>0</th>\n",
       "      <td>East Midlands</td>\n",
       "      <td>01/11/2021</td>\n",
       "      <td>874</td>\n",
       "      <td>100.0</td>\n",
       "      <td>Cases with confirmed S-gene</td>\n",
       "      <td>874</td>\n",
       "      <td>99.454454</td>\n",
       "      <td>100.0</td>\n",
       "    </tr>\n",
       "    <tr>\n",
       "      <th>3</th>\n",
       "      <td>East Midlands</td>\n",
       "      <td>03/11/2021</td>\n",
       "      <td>757</td>\n",
       "      <td>100.0</td>\n",
       "      <td>Cases with confirmed S-gene</td>\n",
       "      <td>757</td>\n",
       "      <td>99.370567</td>\n",
       "      <td>100.0</td>\n",
       "    </tr>\n",
       "    <tr>\n",
       "      <th>4</th>\n",
       "      <td>East Midlands</td>\n",
       "      <td>04/11/2021</td>\n",
       "      <td>598</td>\n",
       "      <td>100.0</td>\n",
       "      <td>Cases with confirmed S-gene</td>\n",
       "      <td>598</td>\n",
       "      <td>99.204289</td>\n",
       "      <td>100.0</td>\n",
       "    </tr>\n",
       "    <tr>\n",
       "      <th>7</th>\n",
       "      <td>East Midlands</td>\n",
       "      <td>06/11/2021</td>\n",
       "      <td>975</td>\n",
       "      <td>100.0</td>\n",
       "      <td>Cases with confirmed S-gene</td>\n",
       "      <td>975</td>\n",
       "      <td>99.510743</td>\n",
       "      <td>100.0</td>\n",
       "    </tr>\n",
       "    <tr>\n",
       "      <th>8</th>\n",
       "      <td>East Midlands</td>\n",
       "      <td>07/11/2021</td>\n",
       "      <td>907</td>\n",
       "      <td>100.0</td>\n",
       "      <td>Cases with confirmed S-gene</td>\n",
       "      <td>907</td>\n",
       "      <td>99.474219</td>\n",
       "      <td>100.0</td>\n",
       "    </tr>\n",
       "    <tr>\n",
       "      <th>...</th>\n",
       "      <td>...</td>\n",
       "      <td>...</td>\n",
       "      <td>...</td>\n",
       "      <td>...</td>\n",
       "      <td>...</td>\n",
       "      <td>...</td>\n",
       "      <td>...</td>\n",
       "      <td>...</td>\n",
       "    </tr>\n",
       "    <tr>\n",
       "      <th>787</th>\n",
       "      <td>Yorkshire and Humber</td>\n",
       "      <td>11/11/2021</td>\n",
       "      <td>2594</td>\n",
       "      <td>100.0</td>\n",
       "      <td>Cases with confirmed S-gene</td>\n",
       "      <td>2594</td>\n",
       "      <td>99.815648</td>\n",
       "      <td>100.0</td>\n",
       "    </tr>\n",
       "    <tr>\n",
       "      <th>792</th>\n",
       "      <td>Yorkshire and Humber</td>\n",
       "      <td>14/11/2021</td>\n",
       "      <td>2154</td>\n",
       "      <td>100.0</td>\n",
       "      <td>Cases with confirmed S-gene</td>\n",
       "      <td>2154</td>\n",
       "      <td>99.778058</td>\n",
       "      <td>100.0</td>\n",
       "    </tr>\n",
       "    <tr>\n",
       "      <th>793</th>\n",
       "      <td>Yorkshire and Humber</td>\n",
       "      <td>15/11/2021</td>\n",
       "      <td>3261</td>\n",
       "      <td>100.0</td>\n",
       "      <td>Cases with confirmed S-gene</td>\n",
       "      <td>3261</td>\n",
       "      <td>99.853310</td>\n",
       "      <td>100.0</td>\n",
       "    </tr>\n",
       "    <tr>\n",
       "      <th>796</th>\n",
       "      <td>Yorkshire and Humber</td>\n",
       "      <td>17/11/2021</td>\n",
       "      <td>2809</td>\n",
       "      <td>100.0</td>\n",
       "      <td>Cases with confirmed S-gene</td>\n",
       "      <td>2809</td>\n",
       "      <td>99.829738</td>\n",
       "      <td>100.0</td>\n",
       "    </tr>\n",
       "    <tr>\n",
       "      <th>819</th>\n",
       "      <td>Yorkshire and Humber</td>\n",
       "      <td>29/11/2021</td>\n",
       "      <td>3182</td>\n",
       "      <td>100.0</td>\n",
       "      <td>Cases with confirmed S-gene</td>\n",
       "      <td>3182</td>\n",
       "      <td>99.849673</td>\n",
       "      <td>100.0</td>\n",
       "    </tr>\n",
       "  </tbody>\n",
       "</table>\n",
       "<p>102 rows × 8 columns</p>\n",
       "</div>"
      ],
      "text/plain": [
       "             UKHSA_region specimen_date     n  percent  \\\n",
       "0           East Midlands    01/11/2021   874    100.0   \n",
       "3           East Midlands    03/11/2021   757    100.0   \n",
       "4           East Midlands    04/11/2021   598    100.0   \n",
       "7           East Midlands    06/11/2021   975    100.0   \n",
       "8           East Midlands    07/11/2021   907    100.0   \n",
       "..                    ...           ...   ...      ...   \n",
       "787  Yorkshire and Humber    11/11/2021  2594    100.0   \n",
       "792  Yorkshire and Humber    14/11/2021  2154    100.0   \n",
       "793  Yorkshire and Humber    15/11/2021  3261    100.0   \n",
       "796  Yorkshire and Humber    17/11/2021  2809    100.0   \n",
       "819  Yorkshire and Humber    29/11/2021  3182    100.0   \n",
       "\n",
       "                            sgtf  total   conf_low  conf_high  \n",
       "0    Cases with confirmed S-gene    874  99.454454      100.0  \n",
       "3    Cases with confirmed S-gene    757  99.370567      100.0  \n",
       "4    Cases with confirmed S-gene    598  99.204289      100.0  \n",
       "7    Cases with confirmed S-gene    975  99.510743      100.0  \n",
       "8    Cases with confirmed S-gene    907  99.474219      100.0  \n",
       "..                           ...    ...        ...        ...  \n",
       "787  Cases with confirmed S-gene   2594  99.815648      100.0  \n",
       "792  Cases with confirmed S-gene   2154  99.778058      100.0  \n",
       "793  Cases with confirmed S-gene   3261  99.853310      100.0  \n",
       "796  Cases with confirmed S-gene   2809  99.829738      100.0  \n",
       "819  Cases with confirmed S-gene   3182  99.849673      100.0  \n",
       "\n",
       "[102 rows x 8 columns]"
      ]
     },
     "execution_count": 6,
     "metadata": {},
     "output_type": "execute_result"
    }
   ],
   "source": [
    "#Regions selecteds above of rates in 100%.\n",
    "data.loc[ data['percent'] == 100 ]"
   ]
  },
  {
   "cell_type": "code",
   "execution_count": 7,
   "id": "f75444c1",
   "metadata": {},
   "outputs": [
    {
     "data": {
      "text/html": [
       "<div>\n",
       "<style scoped>\n",
       "    .dataframe tbody tr th:only-of-type {\n",
       "        vertical-align: middle;\n",
       "    }\n",
       "\n",
       "    .dataframe tbody tr th {\n",
       "        vertical-align: top;\n",
       "    }\n",
       "\n",
       "    .dataframe thead th {\n",
       "        text-align: right;\n",
       "    }\n",
       "</style>\n",
       "<table border=\"1\" class=\"dataframe\">\n",
       "  <thead>\n",
       "    <tr style=\"text-align: right;\">\n",
       "      <th></th>\n",
       "      <th>n</th>\n",
       "      <th>percent</th>\n",
       "      <th>total</th>\n",
       "      <th>conf_low</th>\n",
       "      <th>conf_high</th>\n",
       "    </tr>\n",
       "  </thead>\n",
       "  <tbody>\n",
       "    <tr>\n",
       "      <th>count</th>\n",
       "      <td>870.000000</td>\n",
       "      <td>870.000000</td>\n",
       "      <td>870.000000</td>\n",
       "      <td>870.000000</td>\n",
       "      <td>870.000000</td>\n",
       "    </tr>\n",
       "    <tr>\n",
       "      <th>mean</th>\n",
       "      <td>1373.411494</td>\n",
       "      <td>55.862069</td>\n",
       "      <td>2578.643678</td>\n",
       "      <td>55.106610</td>\n",
       "      <td>56.562888</td>\n",
       "    </tr>\n",
       "    <tr>\n",
       "      <th>std</th>\n",
       "      <td>1528.869692</td>\n",
       "      <td>43.135556</td>\n",
       "      <td>1898.570819</td>\n",
       "      <td>43.090425</td>\n",
       "      <td>42.955862</td>\n",
       "    </tr>\n",
       "    <tr>\n",
       "      <th>min</th>\n",
       "      <td>1.000000</td>\n",
       "      <td>0.020000</td>\n",
       "      <td>300.000000</td>\n",
       "      <td>0.001228</td>\n",
       "      <td>0.152607</td>\n",
       "    </tr>\n",
       "    <tr>\n",
       "      <th>25%</th>\n",
       "      <td>47.500000</td>\n",
       "      <td>2.810000</td>\n",
       "      <td>1395.000000</td>\n",
       "      <td>2.152887</td>\n",
       "      <td>3.724004</td>\n",
       "    </tr>\n",
       "    <tr>\n",
       "      <th>50%</th>\n",
       "      <td>1096.000000</td>\n",
       "      <td>71.100000</td>\n",
       "      <td>2120.000000</td>\n",
       "      <td>69.630869</td>\n",
       "      <td>72.920888</td>\n",
       "    </tr>\n",
       "    <tr>\n",
       "      <th>75%</th>\n",
       "      <td>2098.750000</td>\n",
       "      <td>99.817500</td>\n",
       "      <td>3091.500000</td>\n",
       "      <td>99.297499</td>\n",
       "      <td>99.951058</td>\n",
       "    </tr>\n",
       "    <tr>\n",
       "      <th>max</th>\n",
       "      <td>14902.000000</td>\n",
       "      <td>100.000000</td>\n",
       "      <td>16396.000000</td>\n",
       "      <td>99.876147</td>\n",
       "      <td>100.000000</td>\n",
       "    </tr>\n",
       "  </tbody>\n",
       "</table>\n",
       "</div>"
      ],
      "text/plain": [
       "                  n     percent         total    conf_low   conf_high\n",
       "count    870.000000  870.000000    870.000000  870.000000  870.000000\n",
       "mean    1373.411494   55.862069   2578.643678   55.106610   56.562888\n",
       "std     1528.869692   43.135556   1898.570819   43.090425   42.955862\n",
       "min        1.000000    0.020000    300.000000    0.001228    0.152607\n",
       "25%       47.500000    2.810000   1395.000000    2.152887    3.724004\n",
       "50%     1096.000000   71.100000   2120.000000   69.630869   72.920888\n",
       "75%     2098.750000   99.817500   3091.500000   99.297499   99.951058\n",
       "max    14902.000000  100.000000  16396.000000   99.876147  100.000000"
      ]
     },
     "execution_count": 7,
     "metadata": {},
     "output_type": "execute_result"
    }
   ],
   "source": [
    "data.describe()"
   ]
  },
  {
   "cell_type": "code",
   "execution_count": 8,
   "id": "b5ff8888",
   "metadata": {},
   "outputs": [
    {
     "data": {
      "text/plain": [
       "UKHSA_region   specimen_date  n     percent  sgtf                         total  conf_low   conf_high \n",
       "East Midlands  01/11/2021     874   100.00   Cases with confirmed S-gene  874    99.454454  100.000000    1\n",
       "               21/12/2021     4814  85.40    Cases with confirmed SGTF    5637   84.445047  86.306345     1\n",
       "               21/11/2021     2057  99.71    Cases with confirmed S-gene  2063   99.333923  99.881718     1\n",
       "                              6     0.29     Cases with confirmed SGTF    2063   0.118282   0.666077      1\n",
       "               20/12/2021     3893  79.71    Cases with confirmed SGTF    4884   78.547784  80.823604     1\n",
       "                                                                                                         ..\n",
       "               10/11/2021     4     0.26     Cases with confirmed SGTF    1528   0.083892   0.717770      1\n",
       "               09/12/2021     2184  89.47    Cases with confirmed S-gene  2441   88.169837  90.647098     1\n",
       "                              257   10.53    Cases with confirmed SGTF    2441   9.352902   11.830163     1\n",
       "               09/11/2021     1526  100.00   Cases with confirmed S-gene  1526   99.686953  100.000000    1\n",
       "               30/11/2021     1637  99.45    Cases with confirmed S-gene  1646   98.924557  99.732924     1\n",
       "Length: 99, dtype: int64"
      ]
     },
     "execution_count": 8,
     "metadata": {},
     "output_type": "execute_result"
    }
   ],
   "source": [
    "# Counting the quanties of East Midlands region presents in the datas. The lenght is the result.\n",
    "data.loc[data['UKHSA_region'] == 'East Midlands'].value_counts()\n"
   ]
  },
  {
   "cell_type": "code",
   "execution_count": 9,
   "id": "e84921b1",
   "metadata": {},
   "outputs": [
    {
     "data": {
      "text/plain": [
       "array(['East Midlands', 'East of England', 'London', 'North East',\n",
       "       'North West', 'South East', 'South West', 'West Midlands',\n",
       "       'Yorkshire and Humber'], dtype=object)"
      ]
     },
     "execution_count": 9,
     "metadata": {},
     "output_type": "execute_result"
    }
   ],
   "source": [
    "# Listing regions names presents in datas\n",
    "data['UKHSA_region'].unique()"
   ]
  },
  {
   "cell_type": "code",
   "execution_count": 10,
   "id": "77952784",
   "metadata": {},
   "outputs": [
    {
     "data": {
      "text/plain": [
       "Cases with confirmed S-gene    486\n",
       "Cases with confirmed SGTF      384\n",
       "Name: sgtf, dtype: int64"
      ]
     },
     "execution_count": 10,
     "metadata": {},
     "output_type": "execute_result"
    }
   ],
   "source": [
    "#Listing quanties S-gene confirmed and SGTF confirmed.\n",
    "data['sgtf'].value_counts()"
   ]
  },
  {
   "cell_type": "code",
   "execution_count": 11,
   "id": "5ea6d78a",
   "metadata": {},
   "outputs": [
    {
     "data": {
      "text/plain": [
       "24/12/2021    18\n",
       "11/12/2021    18\n",
       "01/12/2021    18\n",
       "25/11/2021    18\n",
       "02/12/2021    18\n",
       "03/12/2021    18\n",
       "04/12/2021    18\n",
       "05/12/2021    18\n",
       "06/12/2021    18\n",
       "07/12/2021    18\n",
       "08/12/2021    18\n",
       "09/12/2021    18\n",
       "10/12/2021    18\n",
       "12/12/2021    18\n",
       "13/12/2021    18\n",
       "14/12/2021    18\n",
       "15/12/2021    18\n",
       "16/12/2021    18\n",
       "17/12/2021    18\n",
       "18/12/2021    18\n",
       "19/12/2021    18\n",
       "20/12/2021    18\n",
       "21/12/2021    18\n",
       "22/12/2021    18\n",
       "23/12/2021    18\n",
       "30/11/2021    18\n",
       "29/11/2021    17\n",
       "28/11/2021    17\n",
       "26/11/2021    17\n",
       "27/11/2021    17\n",
       "02/11/2021    16\n",
       "19/11/2021    16\n",
       "09/11/2021    16\n",
       "01/11/2021    16\n",
       "24/11/2021    15\n",
       "22/11/2021    15\n",
       "15/11/2021    15\n",
       "05/11/2021    15\n",
       "12/11/2021    15\n",
       "08/11/2021    15\n",
       "21/11/2021    14\n",
       "18/11/2021    14\n",
       "04/11/2021    14\n",
       "23/11/2021    14\n",
       "03/11/2021    13\n",
       "11/11/2021    13\n",
       "10/11/2021    13\n",
       "20/11/2021    13\n",
       "13/11/2021    13\n",
       "16/11/2021    13\n",
       "17/11/2021    13\n",
       "14/11/2021    12\n",
       "06/11/2021    11\n",
       "07/11/2021    10\n",
       "Name: specimen_date, dtype: int64"
      ]
     },
     "execution_count": 11,
     "metadata": {},
     "output_type": "execute_result"
    }
   ],
   "source": [
    "# Listing the months and your dates of register ocorrencies. There is too, the ocorrencies quanties in each day.\n",
    "data['specimen_date'].value_counts()"
   ]
  },
  {
   "cell_type": "code",
   "execution_count": 106,
   "id": "7241857f",
   "metadata": {},
   "outputs": [
    {
     "data": {
      "text/plain": [
       "Text(0, 0.5, 'Quanties cases')"
      ]
     },
     "execution_count": 106,
     "metadata": {},
     "output_type": "execute_result"
    },
    {
     "data": {
      "image/png": "[encoded data removed]",
      "text/plain": [
       "<Figure size 432x288 with 1 Axes>"
      ]
     },
     "metadata": {},
     "output_type": "display_data"
    }
   ],
   "source": [
    "#Total values graphic of two contagies cases listeds in the datas\n",
    "\n",
    "data['sgtf'].value_counts().plot.bar(title=\"Total SGTF ans S-gene contagies in all regions\")\n",
    "plt.xlabel(\"Name cases\")\n",
    "plt.ylabel(\"Quanties cases\")"
   ]
  },
  {
   "cell_type": "code",
   "execution_count": 13,
   "id": "d6911c24",
   "metadata": {
    "scrolled": true
   },
   "outputs": [
    {
     "data": {
      "text/html": [
       "<div>\n",
       "<style scoped>\n",
       "    .dataframe tbody tr th:only-of-type {\n",
       "        vertical-align: middle;\n",
       "    }\n",
       "\n",
       "    .dataframe tbody tr th {\n",
       "        vertical-align: top;\n",
       "    }\n",
       "\n",
       "    .dataframe thead th {\n",
       "        text-align: right;\n",
       "    }\n",
       "</style>\n",
       "<table border=\"1\" class=\"dataframe\">\n",
       "  <thead>\n",
       "    <tr style=\"text-align: right;\">\n",
       "      <th></th>\n",
       "      <th>UKHSA_region</th>\n",
       "      <th>specimen_date</th>\n",
       "      <th>n</th>\n",
       "      <th>percent</th>\n",
       "      <th>sgtf</th>\n",
       "      <th>total</th>\n",
       "      <th>conf_low</th>\n",
       "      <th>conf_high</th>\n",
       "    </tr>\n",
       "  </thead>\n",
       "  <tbody>\n",
       "    <tr>\n",
       "      <th>0</th>\n",
       "      <td>East Midlands</td>\n",
       "      <td>01/11/2021</td>\n",
       "      <td>874</td>\n",
       "      <td>100.00</td>\n",
       "      <td>Cases with confirmed S-gene</td>\n",
       "      <td>874</td>\n",
       "      <td>99.454454</td>\n",
       "      <td>100.000000</td>\n",
       "    </tr>\n",
       "    <tr>\n",
       "      <th>1</th>\n",
       "      <td>East Midlands</td>\n",
       "      <td>02/11/2021</td>\n",
       "      <td>724</td>\n",
       "      <td>99.86</td>\n",
       "      <td>Cases with confirmed S-gene</td>\n",
       "      <td>725</td>\n",
       "      <td>99.109120</td>\n",
       "      <td>99.992800</td>\n",
       "    </tr>\n",
       "    <tr>\n",
       "      <th>3</th>\n",
       "      <td>East Midlands</td>\n",
       "      <td>03/11/2021</td>\n",
       "      <td>757</td>\n",
       "      <td>100.00</td>\n",
       "      <td>Cases with confirmed S-gene</td>\n",
       "      <td>757</td>\n",
       "      <td>99.370567</td>\n",
       "      <td>100.000000</td>\n",
       "    </tr>\n",
       "    <tr>\n",
       "      <th>4</th>\n",
       "      <td>East Midlands</td>\n",
       "      <td>04/11/2021</td>\n",
       "      <td>598</td>\n",
       "      <td>100.00</td>\n",
       "      <td>Cases with confirmed S-gene</td>\n",
       "      <td>598</td>\n",
       "      <td>99.204289</td>\n",
       "      <td>100.000000</td>\n",
       "    </tr>\n",
       "    <tr>\n",
       "      <th>5</th>\n",
       "      <td>East Midlands</td>\n",
       "      <td>05/11/2021</td>\n",
       "      <td>567</td>\n",
       "      <td>99.82</td>\n",
       "      <td>Cases with confirmed S-gene</td>\n",
       "      <td>568</td>\n",
       "      <td>98.864622</td>\n",
       "      <td>99.990809</td>\n",
       "    </tr>\n",
       "  </tbody>\n",
       "</table>\n",
       "</div>"
      ],
      "text/plain": [
       "    UKHSA_region specimen_date    n  percent                         sgtf  \\\n",
       "0  East Midlands    01/11/2021  874   100.00  Cases with confirmed S-gene   \n",
       "1  East Midlands    02/11/2021  724    99.86  Cases with confirmed S-gene   \n",
       "3  East Midlands    03/11/2021  757   100.00  Cases with confirmed S-gene   \n",
       "4  East Midlands    04/11/2021  598   100.00  Cases with confirmed S-gene   \n",
       "5  East Midlands    05/11/2021  567    99.82  Cases with confirmed S-gene   \n",
       "\n",
       "   total   conf_low   conf_high  \n",
       "0    874  99.454454  100.000000  \n",
       "1    725  99.109120   99.992800  \n",
       "3    757  99.370567  100.000000  \n",
       "4    598  99.204289  100.000000  \n",
       "5    568  98.864622   99.990809  "
      ]
     },
     "execution_count": 13,
     "metadata": {},
     "output_type": "execute_result"
    }
   ],
   "source": [
    "#Reducing the datas for to know S-gene contagies\n",
    "dataSgene = data[data['sgtf'].str.contains('S-gene')]\n",
    "dataSgene.head()"
   ]
  },
  {
   "cell_type": "code",
   "execution_count": 14,
   "id": "5b67f36f",
   "metadata": {},
   "outputs": [
    {
     "data": {
      "text/plain": [
       "UKHSA_region          specimen_date  n     percent  sgtf                         total  conf_low   conf_high \n",
       "East Midlands         01/11/2021     874   100.00   Cases with confirmed S-gene  874    99.454454  100.000000    1\n",
       "South East            18/11/2021     2570  100.00   Cases with confirmed S-gene  2570   99.813929  100.000000    1\n",
       "South West            05/11/2021     794   100.00   Cases with confirmed S-gene  794    99.399755  100.000000    1\n",
       "                      04/12/2021     1211  98.78    Cases with confirmed S-gene  1226   97.940784  99.287951     1\n",
       "                      04/11/2021     716   100.00   Cases with confirmed S-gene  716    99.334718  100.000000    1\n",
       "                                                                                                                ..\n",
       "London                26/11/2021     1598  99.38    Cases with confirmed S-gene  1608   98.818994  99.683669     1\n",
       "                      25/11/2021     1805  99.83    Cases with confirmed S-gene  1808   99.472529  99.957137     1\n",
       "                      24/12/2021     97    4.92     Cases with confirmed S-gene  1971   4.027989   5.994739      1\n",
       "                      24/11/2021     1579  99.68    Cases with confirmed S-gene  1584   99.219377  99.883731     1\n",
       "Yorkshire and Humber  30/11/2021     3090  99.87    Cases with confirmed S-gene  3094   99.644981  99.958577     1\n",
       "Length: 486, dtype: int64"
      ]
     },
     "execution_count": 14,
     "metadata": {},
     "output_type": "execute_result"
    }
   ],
   "source": [
    "#Total of contagies S-genes in the regions\n",
    "dataSgene.value_counts()"
   ]
  },
  {
   "cell_type": "code",
   "execution_count": 15,
   "id": "b156db87",
   "metadata": {},
   "outputs": [
    {
     "data": {
      "text/plain": [
       "East Midlands           54\n",
       "East of England         54\n",
       "London                  54\n",
       "North East              54\n",
       "North West              54\n",
       "South East              54\n",
       "South West              54\n",
       "West Midlands           54\n",
       "Yorkshire and Humber    54\n",
       "Name: UKHSA_region, dtype: int64"
      ]
     },
     "execution_count": 15,
     "metadata": {},
     "output_type": "execute_result"
    }
   ],
   "source": [
    "#S-gene quanties in each region\n",
    "dataSgene['UKHSA_region'].value_counts()"
   ]
  },
  {
   "cell_type": "code",
   "execution_count": 104,
   "id": "5ede16c7",
   "metadata": {},
   "outputs": [
    {
     "data": {
      "text/plain": [
       "Text(0, 0.5, 'Regions names')"
      ]
     },
     "execution_count": 104,
     "metadata": {},
     "output_type": "execute_result"
    },
    {
     "data": {
      "image/png": "[encoded data removed]",
      "text/plain": [
       "<Figure size 432x288 with 1 Axes>"
      ]
     },
     "metadata": {},
     "output_type": "display_data"
    }
   ],
   "source": [
    "#Graphic total S-gene contagies in all regions\n",
    "dataSgene['UKHSA_region'].value_counts().plot.barh(title=\"Total S-gene contagies in all regions\") \n",
    "plt.xlabel(\"Quanties cases\")\n",
    "plt.ylabel(\"Regions names\")"
   ]
  },
  {
   "cell_type": "code",
   "execution_count": 17,
   "id": "787c11c2",
   "metadata": {},
   "outputs": [
    {
     "data": {
      "text/plain": [
       "54"
      ]
     },
     "execution_count": 17,
     "metadata": {},
     "output_type": "execute_result"
    }
   ],
   "source": [
    "#S-gene quanties in 'East Midlands' region\n",
    "dataSgene['UKHSA_region'].str.contains('East Midlands').value_counts().get(True,0) \n",
    "#TotaldataSgene=dataSgene['UKHSA_region'].str.contains('East Midlands').value_counts() "
   ]
  },
  {
   "cell_type": "code",
   "execution_count": 18,
   "id": "68e4e855",
   "metadata": {},
   "outputs": [
    {
     "data": {
      "text/html": [
       "<div>\n",
       "<style scoped>\n",
       "    .dataframe tbody tr th:only-of-type {\n",
       "        vertical-align: middle;\n",
       "    }\n",
       "\n",
       "    .dataframe tbody tr th {\n",
       "        vertical-align: top;\n",
       "    }\n",
       "\n",
       "    .dataframe thead th {\n",
       "        text-align: right;\n",
       "    }\n",
       "</style>\n",
       "<table border=\"1\" class=\"dataframe\">\n",
       "  <thead>\n",
       "    <tr style=\"text-align: right;\">\n",
       "      <th></th>\n",
       "      <th>UKHSA_region</th>\n",
       "      <th>specimen_date</th>\n",
       "      <th>n</th>\n",
       "      <th>percent</th>\n",
       "      <th>sgtf</th>\n",
       "      <th>total</th>\n",
       "      <th>conf_low</th>\n",
       "      <th>conf_high</th>\n",
       "    </tr>\n",
       "  </thead>\n",
       "  <tbody>\n",
       "    <tr>\n",
       "      <th>2</th>\n",
       "      <td>East Midlands</td>\n",
       "      <td>02/11/2021</td>\n",
       "      <td>1</td>\n",
       "      <td>0.14</td>\n",
       "      <td>Cases with confirmed SGTF</td>\n",
       "      <td>725</td>\n",
       "      <td>0.007200</td>\n",
       "      <td>0.890880</td>\n",
       "    </tr>\n",
       "    <tr>\n",
       "      <th>6</th>\n",
       "      <td>East Midlands</td>\n",
       "      <td>05/11/2021</td>\n",
       "      <td>1</td>\n",
       "      <td>0.18</td>\n",
       "      <td>Cases with confirmed SGTF</td>\n",
       "      <td>568</td>\n",
       "      <td>0.009191</td>\n",
       "      <td>1.135378</td>\n",
       "    </tr>\n",
       "    <tr>\n",
       "      <th>10</th>\n",
       "      <td>East Midlands</td>\n",
       "      <td>08/11/2021</td>\n",
       "      <td>4</td>\n",
       "      <td>0.25</td>\n",
       "      <td>Cases with confirmed SGTF</td>\n",
       "      <td>1582</td>\n",
       "      <td>0.081027</td>\n",
       "      <td>0.693341</td>\n",
       "    </tr>\n",
       "    <tr>\n",
       "      <th>13</th>\n",
       "      <td>East Midlands</td>\n",
       "      <td>10/11/2021</td>\n",
       "      <td>4</td>\n",
       "      <td>0.26</td>\n",
       "      <td>Cases with confirmed SGTF</td>\n",
       "      <td>1528</td>\n",
       "      <td>0.083892</td>\n",
       "      <td>0.717770</td>\n",
       "    </tr>\n",
       "    <tr>\n",
       "      <th>15</th>\n",
       "      <td>East Midlands</td>\n",
       "      <td>11/11/2021</td>\n",
       "      <td>1</td>\n",
       "      <td>0.07</td>\n",
       "      <td>Cases with confirmed SGTF</td>\n",
       "      <td>1532</td>\n",
       "      <td>0.003407</td>\n",
       "      <td>0.422838</td>\n",
       "    </tr>\n",
       "  </tbody>\n",
       "</table>\n",
       "</div>"
      ],
      "text/plain": [
       "     UKHSA_region specimen_date  n  percent                       sgtf  total  \\\n",
       "2   East Midlands    02/11/2021  1     0.14  Cases with confirmed SGTF    725   \n",
       "6   East Midlands    05/11/2021  1     0.18  Cases with confirmed SGTF    568   \n",
       "10  East Midlands    08/11/2021  4     0.25  Cases with confirmed SGTF   1582   \n",
       "13  East Midlands    10/11/2021  4     0.26  Cases with confirmed SGTF   1528   \n",
       "15  East Midlands    11/11/2021  1     0.07  Cases with confirmed SGTF   1532   \n",
       "\n",
       "    conf_low  conf_high  \n",
       "2   0.007200   0.890880  \n",
       "6   0.009191   1.135378  \n",
       "10  0.081027   0.693341  \n",
       "13  0.083892   0.717770  \n",
       "15  0.003407   0.422838  "
      ]
     },
     "execution_count": 18,
     "metadata": {},
     "output_type": "execute_result"
    }
   ],
   "source": [
    "#Reducing the datas for to know SGTF contagies\n",
    "dataSGTF = data[data['sgtf'].str.contains('SGTF')]\n",
    "dataSGTF.head()"
   ]
  },
  {
   "cell_type": "code",
   "execution_count": 19,
   "id": "f589157f",
   "metadata": {},
   "outputs": [
    {
     "data": {
      "text/plain": [
       "UKHSA_region          specimen_date  n     percent  sgtf                       total  conf_low   conf_high\n",
       "East Midlands         01/12/2021     9     0.56     Cases with confirmed SGTF  1594   0.275796   1.110408     1\n",
       "                      02/11/2021     1     0.14     Cases with confirmed SGTF  725    0.007200   0.890880     1\n",
       "South East            26/11/2021     8     0.46     Cases with confirmed SGTF  1755   0.212108   0.934479     1\n",
       "                      25/11/2021     9     0.33     Cases with confirmed SGTF  2687   0.163551   0.659628     1\n",
       "                      24/12/2021     1342  91.60    Cases with confirmed SGTF  1465   90.036233  92.949136    1\n",
       "                                                                                                             ..\n",
       "London                19/12/2021     5635  89.37    Cases with confirmed SGTF  6305   88.580532  90.118045    1\n",
       "                      19/11/2021     4     0.29     Cases with confirmed SGTF  1395   0.091894   0.785977     1\n",
       "                      18/12/2021     7358  88.51    Cases with confirmed SGTF  8313   87.802463  89.185586    1\n",
       "                      18/11/2021     4     0.21     Cases with confirmed SGTF  1928   0.066482   0.569211     1\n",
       "Yorkshire and Humber  30/11/2021     4     0.13     Cases with confirmed SGTF  3094   0.041423   0.355019     1\n",
       "Length: 384, dtype: int64"
      ]
     },
     "execution_count": 19,
     "metadata": {},
     "output_type": "execute_result"
    }
   ],
   "source": [
    "#Total of contagies SGTF in the regions\n",
    "dataSGTF.value_counts()"
   ]
  },
  {
   "cell_type": "code",
   "execution_count": 20,
   "id": "02c4b4b5",
   "metadata": {},
   "outputs": [
    {
     "data": {
      "text/plain": [
       "London                  51\n",
       "South East              50\n",
       "Yorkshire and Humber    46\n",
       "East Midlands           45\n",
       "East of England         45\n",
       "North West              44\n",
       "West Midlands           41\n",
       "North East              32\n",
       "South West              30\n",
       "Name: UKHSA_region, dtype: int64"
      ]
     },
     "execution_count": 20,
     "metadata": {},
     "output_type": "execute_result"
    }
   ],
   "source": [
    "#SGTF quanties in each region\n",
    "dataSGTF['UKHSA_region'].value_counts()  "
   ]
  },
  {
   "cell_type": "code",
   "execution_count": 103,
   "id": "0c58c583",
   "metadata": {},
   "outputs": [
    {
     "data": {
      "text/plain": [
       "Text(0, 0.5, 'Regions names')"
      ]
     },
     "execution_count": 103,
     "metadata": {},
     "output_type": "execute_result"
    },
    {
     "data": {
      "image/png": "[encoded data removed]",
      "text/plain": [
       "<Figure size 432x288 with 1 Axes>"
      ]
     },
     "metadata": {},
     "output_type": "display_data"
    }
   ],
   "source": [
    "#SGTF graphic of total quanties with contagie in all regions\n",
    "dataSGTF['UKHSA_region'].value_counts().plot.barh(title=\"Total SGTF contagies in all regions\")\n",
    "plt.xlabel(\"Quanties cases\")\n",
    "plt.ylabel(\"Regions names\")"
   ]
  },
  {
   "cell_type": "code",
   "execution_count": 22,
   "id": "8f07656a",
   "metadata": {},
   "outputs": [
    {
     "data": {
      "text/plain": [
       "45"
      ]
     },
     "execution_count": 22,
     "metadata": {},
     "output_type": "execute_result"
    }
   ],
   "source": [
    "#SGTF quanties in 'East Midlands' region\n",
    "dataSGTF['UKHSA_region'].str.contains('East Midlands').value_counts().get(True,0) \n",
    "#TotalSGTF=dataSGTF['UKHSA_region'].str.contains('East Midlands').value_counts() "
   ]
  },
  {
   "cell_type": "code",
   "execution_count": 23,
   "id": "45d299d3",
   "metadata": {},
   "outputs": [],
   "source": [
    "TotalSgene=dataSgene['UKHSA_region'].str.contains('East Midlands').value_counts()\n",
    "TotalSGTF=dataSGTF['UKHSA_region'].str.contains('East Midlands').value_counts()\n",
    "TotalContagiesEast_Midlands = TotalSgene + TotalSGTF\n",
    "TotalContagiesEast_MidlandsG = (TotalSgene,TotalSGTF)"
   ]
  },
  {
   "cell_type": "code",
   "execution_count": 102,
   "id": "acce4c32",
   "metadata": {},
   "outputs": [
    {
     "data": {
      "text/plain": [
       "Text(0, 0.5, 'Correlation of cases')"
      ]
     },
     "execution_count": 102,
     "metadata": {},
     "output_type": "execute_result"
    },
    {
     "data": {
      "image/png": "[encoded data removed]",
      "text/plain": [
       "<Figure size 432x288 with 1 Axes>"
      ]
     },
     "metadata": {},
     "output_type": "display_data"
    }
   ],
   "source": [
    "#True, means rates of East Midlands contagies. And False, means others regions contagies.\n",
    "#print(TotalContagiesEast_Midlands)\n",
    "\n",
    "#Total values graphic of two contagies cases listeds, 771 are contagies in others regions, and 99 are sum of Sgene\n",
    "#and SGTF contagies in East Midlands region.\n",
    "\n",
    "TotalContagiesEast_Midlands.value_counts().plot.bar(title=\"Total contagies East Midlands\")\n",
    "plt.xlabel(\"Cases numbers\")\n",
    "plt.ylabel(\"Correlation of cases\")\n"
   ]
  },
  {
   "cell_type": "code",
   "execution_count": 25,
   "id": "f34ab859",
   "metadata": {},
   "outputs": [],
   "source": [
    "#Making the counting of repetition frequency about each region\n",
    "#regionFiltred = data.filter(like='UKHSA_region')=='East Midlands'.value_counts()\n",
    "regionFiltred = data['UKHSA_region'].str.contains('East Midlands').value_counts().get(True,0)\n",
    "regionFiltred1 = data['UKHSA_region'].str.contains('Yorkshire and Humber').value_counts().get(True,0)\n",
    "regionFiltred2 = data['UKHSA_region'].str.contains('East of England').value_counts().get(True,0)\n",
    "regionFiltred3 = data['UKHSA_region'].str.contains('North West').value_counts().get(True,0)\n",
    "regionFiltred4 = data['UKHSA_region'].str.contains('North East').value_counts().get(True,0)\n",
    "regionFiltred5 = data['UKHSA_region'].str.contains('South West').value_counts().get(True,0)\n",
    "regionFiltred6 = data['UKHSA_region'].str.contains('South East').value_counts().get(True,0)\n",
    "regionFiltred7 = data['UKHSA_region'].str.contains('London').value_counts().get(True,0)\n",
    "regionFiltred8 = data['UKHSA_region'].str.contains('West Midlands').value_counts().get(True,0)"
   ]
  },
  {
   "cell_type": "code",
   "execution_count": 74,
   "id": "0437c0bd",
   "metadata": {},
   "outputs": [
    {
     "name": "stdout",
     "output_type": "stream",
     "text": [
      "[99, 100, 99, 98, 86, 84, 104, 105, 95]\n",
      "['East Midlands', 'Yorkshire and Humber', 'East of England', 'North West', 'North East', 'South West', 'South East', 'London', 'West Midlands']\n"
     ]
    }
   ],
   "source": [
    "#Printing the step above\n",
    "\n",
    "regioes = [regionFiltred,regionFiltred1,regionFiltred2,regionFiltred3,regionFiltred4,regionFiltred5,regionFiltred6,\n",
    "        regionFiltred7,regionFiltred8]\n",
    "namesregiao = ['East Midlands','Yorkshire and Humber','East of England','North West','North East','South West',\n",
    "              'South East','London','West Midlands']\n",
    "\n",
    "print(regioes)\n",
    "print(namesregiao)"
   ]
  },
  {
   "cell_type": "code",
   "execution_count": 101,
   "id": "bdd8ff40",
   "metadata": {},
   "outputs": [
    {
     "data": {
      "image/png": "[encoded data removed]",
      "text/plain": [
       "<Figure size 432x288 with 1 Axes>"
      ]
     },
     "metadata": {},
     "output_type": "display_data"
    }
   ],
   "source": [
    "#Ploting the counting of repetition frequency about each region\n",
    "\n",
    "plt.bar(regioes,namesregiao)\n",
    "plt.title(\"Repetition counting of each region\")\n",
    "plt.xlabel(\"Quanties of repetition\")\n",
    "plt.ylabel(\"Regions name\")\n",
    "plt.show()"
   ]
  },
  {
   "cell_type": "code",
   "execution_count": null,
   "id": "374028a8",
   "metadata": {},
   "outputs": [],
   "source": []
  }
 ],
 "metadata": {
  "kernelspec": {
   "display_name": "Python 3 (ipykernel)",
   "language": "python",
   "name": "python3"
  },
  "language_info": {
   "codemirror_mode": {
    "name": "ipython",
    "version": 3
   },
   "file_extension": ".py",
   "mimetype": "text/x-python",
   "name": "python",
   "nbconvert_exporter": "python",
   "pygments_lexer": "ipython3",
   "version": "3.8.10"
  }
 },
 "nbformat": 4,
 "nbformat_minor": 5
}
